{
 "cells": [
  {
   "cell_type": "code",
   "execution_count": 64,
   "metadata": {},
   "outputs": [],
   "source": [
    "# Section 1 - Run a basic and Simple Regression Model"
   ]
  },
  {
   "cell_type": "code",
   "execution_count": 65,
   "metadata": {},
   "outputs": [],
   "source": [
    "# note the basic equation is y= ax + b"
   ]
  },
  {
   "cell_type": "code",
   "execution_count": 66,
   "metadata": {},
   "outputs": [],
   "source": [
    "# Hoston Housing Data discription:https://www.kaggle.com/prasadperera/the-boston-housing-dataset"
   ]
  },
  {
   "cell_type": "code",
   "execution_count": 50,
   "metadata": {},
   "outputs": [
    {
     "name": "stdout",
     "output_type": "stream",
     "text": [
      "   longitude  latitude  housing_median_age  total_rooms  total_bedrooms  \\\n",
      "0    -122.23     37.88                  41          880           129.0   \n",
      "1    -122.22     37.86                  21         7099          1106.0   \n",
      "2    -122.24     37.85                  52         1467           190.0   \n",
      "3    -122.25     37.85                  52         1274           235.0   \n",
      "4    -122.25     37.85                  52         1627           280.0   \n",
      "5    -122.25     37.85                  52          919           213.0   \n",
      "6    -122.25     37.84                  52         2535           489.0   \n",
      "7    -122.25     37.84                  52         3104           687.0   \n",
      "8    -122.26     37.84                  42         2555           665.0   \n",
      "9    -122.25     37.84                  52         3549           707.0   \n",
      "\n",
      "   population  households  median_income  median_house_value ocean_proximity  \n",
      "0         322         126         8.3252              452600        NEAR BAY  \n",
      "1        2401        1138         8.3014              358500        NEAR BAY  \n",
      "2         496         177         7.2574              352100        NEAR BAY  \n",
      "3         558         219         5.6431              341300        NEAR BAY  \n",
      "4         565         259         3.8462              342200        NEAR BAY  \n",
      "5         413         193         4.0368              269700        NEAR BAY  \n",
      "6        1094         514         3.6591              299200        NEAR BAY  \n",
      "7        1157         647         3.1200              241400        NEAR BAY  \n",
      "8        1206         595         2.0804              226700        NEAR BAY  \n",
      "9        1551         714         3.6912              261100        NEAR BAY  \n",
      "['longitude', 'latitude', 'housing_median_age', 'total_rooms', 'total_bedrooms', 'population', 'households', 'median_income', 'median_house_value', 'ocean_proximity']\n",
      "       median_income  median_house_value\n",
      "count   20640.000000        20640.000000\n",
      "mean        3.870671       206855.816909\n",
      "std         1.899822       115395.615874\n",
      "min         0.499900        14999.000000\n",
      "25%         2.563400       119600.000000\n",
      "50%         3.534800       179700.000000\n",
      "75%         4.743250       264725.000000\n",
      "max        15.000100       500001.000000\n",
      "Correlation coefficient: 0.688075207958548\n"
     ]
    },
    {
     "name": "stderr",
     "output_type": "stream",
     "text": [
      "/home/nbuser/anaconda3_420/lib/python3.5/site-packages/ipykernel/__main__.py:13: SettingWithCopyWarning: \n",
      "A value is trying to be set on a copy of a slice from a DataFrame\n",
      "\n",
      "See the caveats in the documentation: http://pandas.pydata.org/pandas-docs/stable/indexing.html#indexing-view-versus-copy\n"
     ]
    }
   ],
   "source": [
    "import pandas as pd\n",
    "import numpy as np\n",
    "df = pd.read_csv('housing1.csv')\n",
    "# Print first 10 rows\n",
    "print(df.head(10))\n",
    "# Print all column names\n",
    "print(list(df))\n",
    "# Select columns\n",
    "# Select CRIM - per capita crime rate by town & Median value of owner-occupied homes in $1000's\n",
    "cols = ['median_income','median_house_value']\n",
    "df_sel = df[cols]\n",
    "# Drop missing value\n",
    "df_sel.dropna(inplace = True)\n",
    "\n",
    "# Statistical details of selected dataset\n",
    "print(df_sel.describe())\n",
    "\n",
    "# find correlation coefficient\n",
    "print('Correlation coefficient:',df_sel['median_income'].corr(df_sel['median_house_value']))"
   ]
  },
  {
   "cell_type": "code",
   "execution_count": 34,
   "metadata": {},
   "outputs": [],
   "source": [
    "# Step 2 - Plot and Visualize Data"
   ]
  },
  {
   "cell_type": "code",
   "execution_count": 51,
   "metadata": {},
   "outputs": [
    {
     "data": {
      "image/png": "[encoded data removed]",
      "text/plain": [
       "<matplotlib.figure.Figure at 0x7fab0f8d77f0>"
      ]
     },
     "metadata": {},
     "output_type": "display_data"
    }
   ],
   "source": [
    "import matplotlib.pyplot as plt  \n",
    "x = 'median_income'\n",
    "y = 'median_house_value'\n",
    "df_sel.plot(x, y, style='o')  \n",
    "plt.title('median_income vs median_house_value')  \n",
    "plt.xlabel('median_income')  \n",
    "plt.ylabel('median_house_value')  \n",
    "plt.show()"
   ]
  },
  {
   "cell_type": "code",
   "execution_count": 37,
   "metadata": {},
   "outputs": [],
   "source": [
    "# Practice 1 - Plot 'DIS (weighted distances to five Boston employment centres)' vs 'Median Value'"
   ]
  },
  {
   "cell_type": "code",
   "execution_count": null,
   "metadata": {},
   "outputs": [],
   "source": []
  },
  {
   "cell_type": "code",
   "execution_count": 38,
   "metadata": {},
   "outputs": [],
   "source": [
    "# Section 2 - Regression plot"
   ]
  },
  {
   "cell_type": "code",
   "execution_count": 56,
   "metadata": {},
   "outputs": [
    {
     "name": "stdout",
     "output_type": "stream",
     "text": [
      "41793.84920189622 45085.57670326816\n"
     ]
    },
    {
     "data": {
      "image/png": "[encoded data removed]",
      "text/plain": [
       "<matplotlib.figure.Figure at 0x7fab0d981320>"
      ]
     },
     "metadata": {},
     "output_type": "display_data"
    }
   ],
   "source": [
    "# now calculate and plot best fit line\n",
    "# convert dataframe column to array\n",
    "from statistics import mean\n",
    "\n",
    "xs = np.array(df_sel[x].tolist(), dtype=np.float64)\n",
    "ys = np.array(df_sel[y].tolist(), dtype=np.float64)\n",
    "\n",
    "def best_fit_slope_and_intercept(xs,ys):\n",
    "    a = (((mean(xs)*mean(ys)) - mean(xs*ys)) /\n",
    "         ((mean(xs)*mean(xs)) - mean(xs*xs)))\n",
    "    \n",
    "    b = mean(ys) - a*mean(xs)\n",
    "    \n",
    "    return a, b\n",
    "\n",
    "a, b = best_fit_slope_and_intercept(xs,ys)\n",
    "\n",
    "\n",
    "# y = ax+b\n",
    "print(a,b)\n",
    "\n",
    "# calculate regression line (predicted y values on regression line)\n",
    "regression_line = []\n",
    "for x_value in xs:\n",
    "    regression_line.append((a*x_value)+b)\n",
    "plt.scatter(xs,ys,color='seagreen')\n",
    "plt.plot(xs, regression_line)\n",
    "plt.show()"
   ]
  },
  {
   "cell_type": "code",
   "execution_count": 40,
   "metadata": {},
   "outputs": [],
   "source": [
    "# Use the equation above , find out the difference between predicted y and actual y values"
   ]
  },
  {
   "cell_type": "code",
   "execution_count": 41,
   "metadata": {},
   "outputs": [
    {
     "name": "stdout",
     "output_type": "stream",
     "text": [
      "mean squared error is:  269885814833103.53\n",
      "root mean squared error is:  114349.7403659444\n",
      "-11546.81948713387\n"
     ]
    }
   ],
   "source": [
    "# Measure the difference using MSE and RMSE\n",
    "\n",
    "y_predicted = regression_line\n",
    "\n",
    "# mean squared error\n",
    "mse = np.sum((y_predicted - ys)**2)\n",
    "print('mean squared error is: ',mse)\n",
    "\n",
    "# root mean squared error\n",
    "# n is the number of training examples\n",
    "n = len(y_predicted)\n",
    "rmse = np.sqrt(mse/n)\n",
    "print('root mean squared error is: ',rmse)\n",
    "\n",
    "# r2 score\n",
    "from sklearn.metrics import r2_score\n",
    "print(r2_score(xs, ys))"
   ]
  },
  {
   "cell_type": "code",
   "execution_count": 42,
   "metadata": {},
   "outputs": [],
   "source": [
    "# Section 3 - Now run the same example in Sci-kit learn"
   ]
  },
  {
   "cell_type": "code",
   "execution_count": 43,
   "metadata": {},
   "outputs": [],
   "source": [
    "from sklearn import linear_model\n",
    "reg = linear_model.LinearRegression()\n",
    "# Prepare data\n",
    "xs2=xs.reshape(-1,1)\n",
    "ys2=ys.reshape(-1,1)\n",
    "\n",
    "reg.fit(xs2, ys2)\n",
    "y_pred = reg.predict(xs2)"
   ]
  },
  {
   "cell_type": "code",
   "execution_count": 44,
   "metadata": {},
   "outputs": [
    {
     "name": "stdout",
     "output_type": "stream",
     "text": [
      "mean squared error is:  269885814833103.53\n",
      "root mean squared error is:  114349.7403659444\n"
     ]
    }
   ],
   "source": [
    "# Evaluate results\n",
    "# mean squared error\n",
    "mse = np.sum((y_pred - ys2)**2)\n",
    "print('mean squared error is: ',mse)\n",
    "\n",
    "# root mean squared error\n",
    "# n is the number of training examples\n",
    "n = len(y_pred)\n",
    "rmse = np.sqrt(mse/n)\n",
    "print('root mean squared error is: ',rmse)"
   ]
  },
  {
   "cell_type": "code",
   "execution_count": 45,
   "metadata": {},
   "outputs": [],
   "source": [
    "# Section 4 - What if this is a simple prediction question\n",
    "# Predict value based on Crime?"
   ]
  },
  {
   "cell_type": "code",
   "execution_count": 46,
   "metadata": {},
   "outputs": [
    {
     "name": "stdout",
     "output_type": "stream",
     "text": [
      "20640\n"
     ]
    }
   ],
   "source": [
    "# prepare training and testing data\n",
    "from sklearn import linear_model\n",
    "reg = linear_model.LinearRegression()\n",
    "\n",
    "# get total number of data and use onl 30%\n",
    "n_tot = len(xs2)\n",
    "print(n_tot)\n",
    "\n",
    "# use 70 for training\n",
    "train_x = xs2[:int(n_tot*0.7)]\n",
    "train_y = ys2[:int(n_tot*0.7)]\n",
    "test_x = xs2[int(n_tot*0.7):]\n",
    "test_y = ys2[int(n_tot*0.7):]\n",
    "\n",
    "# fit data\n",
    "reg.fit(train_x, train_y)\n",
    "y_pred_new = reg.predict(test_x)\n",
    "\n",
    "# note the actual results for the test are test_y"
   ]
  },
  {
   "cell_type": "code",
   "execution_count": 48,
   "metadata": {},
   "outputs": [
    {
     "name": "stdout",
     "output_type": "stream",
     "text": [
      "mean squared error is:  93103491865728.33\n",
      "root mean squared error is:  122611.84987583334\n"
     ]
    }
   ],
   "source": [
    "# Evaluate results\n",
    "# mean squared error\n",
    "mse = np.sum((y_pred_new - test_y)**2)\n",
    "print('mean squared error is: ',mse)\n",
    "\n",
    "# root mean squared error\n",
    "# n is the number of training examples\n",
    "n = len(y_pred_new)\n",
    "rmse = np.sqrt(mse/n)\n",
    "print('root mean squared error is: ',rmse)"
   ]
  },
  {
   "cell_type": "code",
   "execution_count": 20,
   "metadata": {},
   "outputs": [],
   "source": [
    "# What do you think? Good results?\n",
    "# Can you find a better predictor for housing price?\n",
    "# Based on your findings, can you produce a simple prediction model based on linear regression\n",
    "# Don't forget to evaluate your result\n",
    "# Submit your script and provide comments for your results and findings (This is the exercise for the week)"
   ]
  },
  {
   "cell_type": "code",
   "execution_count": 57,
   "metadata": {},
   "outputs": [
    {
     "name": "stdout",
     "output_type": "stream",
     "text": [
      "There are differences in the data, the biggest one being that california has significantly more data than Boston.There are not many variables that the CALI and BA datasets shared other than median_income which is simular to LSTAT, and Total_rooms per block which is similar to RM, which is the average number of rooms per dwelling. Based on the MSE and RMSE of Boston and California, both generally showed that income was the best predictor for housing prices. I tried total_rooms and I recieved a RMSE value of 122611.84987583334 which was greater than RMSE value of median_income being 91309.6001.\n"
     ]
    }
   ],
   "source": [
    "# Bonus question: \n",
    "# Use your model for California\n",
    "# Try their dataset https://www.kaggle.com/camnugent/california-housing-prices\n",
    "# Any difference? Why?\n",
    "print('There are differences in the data, the biggest one being that california has significantly more data than Boston.There are not many variables that the CALI and BA datasets shared other than median_income which is simular to LSTAT, and Total_rooms per block which is similar to RM, which is the average number of rooms per dwelling. Based on the MSE and RMSE of Boston and California, both generally showed that income was the best predictor for housing prices. I tried total_rooms and I recieved a RMSE value of 122611.84987583334 which was greater than RMSE value of median_income being 91309.6001.')"
   ]
  },
  {
   "cell_type": "code",
   "execution_count": null,
   "metadata": {},
   "outputs": [],
   "source": []
  }
 ],
 "metadata": {
  "kernelspec": {
   "display_name": "Python 3",
   "language": "python",
   "name": "python3"
  },
  "language_info": {
   "codemirror_mode": {
    "name": "ipython",
    "version": 3
   },
   "file_extension": ".py",
   "mimetype": "text/x-python",
   "name": "python",
   "nbconvert_exporter": "python",
   "pygments_lexer": "ipython3",
   "version": "3.5.4"
  }
 },
 "nbformat": 4,
 "nbformat_minor": 2
}
